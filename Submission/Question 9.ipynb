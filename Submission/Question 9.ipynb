{
 "cells": [
  {
   "cell_type": "markdown",
   "id": "d55b24ce",
   "metadata": {},
   "source": [
    "# <center>Glencore Processing Senior Data Scientist Candidate Assignment by Nthabiseng Portia Mahumapelo</center>"
   ]
  },
  {
   "cell_type": "markdown",
   "id": "7e79fc60",
   "metadata": {},
   "source": [
    "# Question 9 and answers\n",
    "#### Assume 𝑋 is a random variable of finite second central moment. Find a constant function 𝑓(∙) that minimizes the functional: Ε[(𝑋−𝑓(𝑋))2]"
   ]
  },
  {
   "cell_type": "markdown",
   "id": "60c49606",
   "metadata": {},
   "source": [
    " The constant function 𝑓 (∙) that minimizes the functional Ε[(𝑋−𝑓(𝑋))2]  is given by the expected value of 𝑋, denoted as Ε[𝑋]. In Python, can be calculated using the mean of the random variable 𝑋. "
   ]
  },
  {
   "cell_type": "code",
   "execution_count": null,
   "id": "eea1c4d2",
   "metadata": {},
   "outputs": [],
   "source": [
    "import numpy as np\n",
    "\n",
    "# Generate a random variable X \n",
    "np.random.seed(42)\n",
    "X = np.random.normal(loc=3, scale=2, size=1000)  # Random variable with mean 3 and standard deviation 2\n",
    "\n",
    "# Find the mean of X\n",
    "mean_X = np.mean(X)\n",
    "\n",
    "# Define the constant function f(∙) as the mean of X\n",
    "def f(X):\n",
    "    return mean_X\n",
    "\n",
    "# Calculate the mean squared error\n",
    "mse = np.mean((X - f(X))**2)\n",
    "\n",
    "print(f\"The constant function f(∙) that minimizes E[(X - f(X))^2] is f(X) = {mean_X}\")\n",
    "print(f\"Mean Squared Error: {mse}\")"
   ]
  }
 ],
 "metadata": {
  "kernelspec": {
   "display_name": "Python 3 (ipykernel)",
   "language": "python",
   "name": "python3"
  },
  "language_info": {
   "codemirror_mode": {
    "name": "ipython",
    "version": 3
   },
   "file_extension": ".py",
   "mimetype": "text/x-python",
   "name": "python",
   "nbconvert_exporter": "python",
   "pygments_lexer": "ipython3",
   "version": "3.11.5"
  }
 },
 "nbformat": 4,
 "nbformat_minor": 5
}
