{
 "cells": [
  {
   "cell_type": "markdown",
   "id": "7aeec3b4",
   "metadata": {},
   "source": [
    "# <center>Glencore Processing Senior Data Scientist candidate assignment by Nthabiseng Portia Mahumapelo</center>"
   ]
  },
  {
   "cell_type": "markdown",
   "id": "5ea6e221",
   "metadata": {},
   "source": [
    "# Question 2 and answers"
   ]
  },
  {
   "cell_type": "markdown",
   "id": "569b6447",
   "metadata": {},
   "source": [
    "#### 2. Explain the relationship between different general KPI on the production of fine copper. \n",
    "The relationship between different KPI on the production of fine copper are as follows:\n",
    "- Quality KPI measure the purity and characteristics of the fine copper produced. The rejection rate measure defects produced.\n",
    "- The yield is the proportion of usable product obtained from the raw materials. Throughput measures the rate at which raw materials are processed in the production of fine copper.\n",
    "- The firing of copper samples consume electricity and this can be costly. It is advisable to reduce production costs and identify opportunities to optimize energy efficiency.\n",
    "- Each employees play a significant role in producing good or bad product.\n",
    "- Enviromental factors should be considered, because production efficiency with environmental responsibility is crucial for sustainable and socially responsible operations."
   ]
  },
  {
   "cell_type": "markdown",
   "id": "378173c0",
   "metadata": {},
   "source": [
    "#### a. How is the relationship between throughput, recovery and fine copper in a concentrator plant?  "
   ]
  },
  {
   "cell_type": "markdown",
   "id": "04b5777d",
   "metadata": {},
   "source": [
    "The relationship between throughput, recovery, fine copper, and P80 in a concentrator plant is crucial for optimizing the efficiency and performance of the plant. The following should be considered:\n",
    "- Increasing throughput may not necessarily lead to higher recovery. At a certain point, increasing throughput might compromise the efficiency of the concentration process, resulting in lower recovery.\n",
    "- The presence of fine copper particles can impact recovery negatively. Fine particles may not be effectively recovered in the concentration process, leading to lower overall recovery rates.\n",
    "- P80 is the particle size at which 80% of the product passes through the screen. In the context of a concentrator plant, P80 is a critical parameter because it affects both the liberation of valuable minerals and the efficiency of subsequent processes."
   ]
  },
  {
   "cell_type": "markdown",
   "id": "fa532449",
   "metadata": {},
   "source": [
    "#### How is the P80 involved in this?\n",
    "- Controlling the P80 can help manage the size distribution of particles and optimize recovery.\n",
    "- The P80 value influences the liberation of valuable minerals and affects the efficiency of the concentration process. \n",
    "- It's important to find a balance where the concentrator plant operates at an optimal throughput while maintaining a suitable P80 for efficient recovery.\n"
   ]
  },
  {
   "cell_type": "markdown",
   "id": "95481b92",
   "metadata": {},
   "source": [
    "#### Propose different visualization for checking the results."
   ]
  },
  {
   "cell_type": "code",
   "execution_count": null,
   "id": "39306fb2",
   "metadata": {},
   "outputs": [],
   "source": [
    "import pandas as pd\n",
    "import matplotlib.pyplot as plt\n",
    "import seaborn as sns\n",
    "\n",
    "# Add data\n",
    "df = pd.read_csv(data)\n",
    "df.head()\n",
    "\n",
    "# 1. Scatter plot \n",
    "sns.pairplot(df)\n",
    "plt.suptitle('Pairplot for Throughput, Recovery, Fine Copper, and P80')\n",
    "plt.show()\n",
    "\n",
    "# 2. 3D Scatter plot for Throughput, Recovery, and Fine Copper\n",
    "fig = plt.figure(figsize=(10, 8))\n",
    "ax = fig.add_subplot(111, projection='3d')\n",
    "ax.scatter(df['Throughput'], df['Recovery'], df['FineCopper'], c='blue', marker='o')\n",
    "ax.set_xlabel('Throughput')\n",
    "ax.set_ylabel('Recovery')\n",
    "ax.set_zlabel('Fine Copper')\n",
    "ax.set_title('3D Scatter Plot for Throughput, Recovery, and Fine Copper')\n",
    "plt.show()\n",
    "\n",
    "# 3. Heatmap for correlation matrix\n",
    "correlation_matrix = df.corr()\n",
    "plt.figure(figsize=(10, 8))\n",
    "sns.heatmap(correlation_matrix, annot=True, cmap='coolwarm', fmt=\".2f\")\n",
    "plt.title('Correlation Heatmap for Throughput, Recovery, Fine Copper, and P80')\n",
    "plt.show()\n"
   ]
  },
  {
   "cell_type": "markdown",
   "id": "d76ba332",
   "metadata": {},
   "source": [
    "#### b. How is the relationship between the copper grade in the copper concentrate and the copper recovery as a general result? \n",
    "In most instance higher copper recovery lead to a higher copper concentrate grade. "
   ]
  },
  {
   "cell_type": "markdown",
   "id": "9d81e151",
   "metadata": {},
   "source": [
    "#### Propose and implement different visualization for checking the results.\n",
    "The scatter plots, histograms, time series, box plots and heat maps can be considered when analysing data. The visuals selected below are scatter plot, 3D scatter plot and heat map"
   ]
  },
  {
   "cell_type": "code",
   "execution_count": null,
   "id": "05007128",
   "metadata": {},
   "outputs": [],
   "source": [
    "import pandas as pd\n",
    "import matplotlib.pyplot as plt\n",
    "import seaborn as sns\n",
    "\n",
    "# Actual data file not included as per instructions\n",
    "df = pd.read_csv(data)\n",
    "df.head()\n",
    "\n",
    "#  Scatter plot\n",
    "plt.figure(figsize=(10, 6))\n",
    "plt.scatter(df['Recovery'], df['CopperGrade'], color='blue')\n",
    "plt.title('Copper Grade vs. Copper Recovery')\n",
    "plt.xlabel('Copper Recovery (%)')\n",
    "plt.ylabel('Copper Grade in Concentrate (%)')\n",
    "plt.grid(True)\n",
    "plt.show()\n",
    "\n",
    "# Box plot\n",
    "plt.figure(figsize=(10, 6))\n",
    "sns.boxplot(x='Recovery', y='CopperGrade', data=df, color='blue')\n",
    "plt.title('Copper Grade Distribution at Different Recovery Levels')\n",
    "plt.xlabel('Copper Recovery (%)')\n",
    "plt.ylabel('Copper Grade in Concentrate (%)')\n",
    "plt.grid(True)\n",
    "plt.show()\n"
   ]
  },
  {
   "cell_type": "markdown",
   "id": "2c81dcbf",
   "metadata": {},
   "source": [
    "#### c. According to the expected relationship and the obtained relationship with data, why do you think that sometimes with real data the expected relationship is not present?\n",
    "\n",
    "The expected relationship between copper recovery and copper grade is not present sometimes because of inaccuracies or variations in sample collection variability in (ore mineralogy, feed ore composition, changes in operating conditions and equipment malfunctions).   \n"
   ]
  },
  {
   "cell_type": "markdown",
   "id": "99120b95",
   "metadata": {},
   "source": [
    "#### How would you isolate the results obtained? \n",
    "To isolate the results obtained and gain a clearer understanding consider the following:\n",
    "- Identify and investigate outliers in dataset.\n",
    "- Divide the dataset into segments based on relevant criteria (e.g., ore type, processing conditions) and analyze each segment separately.\n",
    "- Evaluate the sensitivity of the results to variations in input parameters.\n",
    "- Conduct additional tests or experiments to gather more data under controlled conditions. \n",
    "- Apply statistical techniques to assess the significance of observed deviations, for instance hypothesis testing, regression analysis, or other statistical methods can provide insights into the reliability of the obtained results."
   ]
  },
  {
   "cell_type": "code",
   "execution_count": null,
   "id": "22219e4b",
   "metadata": {},
   "outputs": [],
   "source": [
    "import pandas as pd\n",
    "import matplotlib.pyplot as plt\n",
    "import seaborn as sns\n",
    "\n",
    "# Actual data file not included as per instructions\n",
    "df= pd.read_csv()\n",
    "df.head()\n",
    "# Pairplot for initial visualization\n",
    "sns.pairplot(df)\n",
    "plt.suptitle('Pairplot for Initial Data Exploration')\n",
    "plt.show()\n",
    "\n",
    "# Boxplot for outlier detection\n",
    "plt.figure(figsize=(10, 6))\n",
    "sns.boxplot(data=df)\n",
    "plt.title('Boxplot for Outlier Detection')\n",
    "plt.show()"
   ]
  }
 ],
 "metadata": {
  "kernelspec": {
   "display_name": "Python 3 (ipykernel)",
   "language": "python",
   "name": "python3"
  },
  "language_info": {
   "codemirror_mode": {
    "name": "ipython",
    "version": 3
   },
   "file_extension": ".py",
   "mimetype": "text/x-python",
   "name": "python",
   "nbconvert_exporter": "python",
   "pygments_lexer": "ipython3",
   "version": "3.11.5"
  }
 },
 "nbformat": 4,
 "nbformat_minor": 5
}
