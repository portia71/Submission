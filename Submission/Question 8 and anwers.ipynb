{
 "cells": [
  {
   "cell_type": "markdown",
   "id": "176babc5",
   "metadata": {},
   "source": [
    "# <center>Glencore Processing Senior Data Scientist Candidate Assignment by Nthabiseng Portia Mahumapelo</center>\n",
    "\n",
    "    \n",
    "    "
   ]
  },
  {
   "cell_type": "markdown",
   "id": "06c89377",
   "metadata": {},
   "source": [
    "# Question 8 and answers"
   ]
  },
  {
   "cell_type": "markdown",
   "id": "948bc426",
   "metadata": {},
   "source": [
    "#### Propose a strategy for continuous improvement sustainable over time based on the insights derived from all the previous analysis."
   ]
  },
  {
   "cell_type": "markdown",
   "id": "bf3085ed",
   "metadata": {},
   "source": [
    "The strategy for continuous improvement sustainable that I will apply is the Six Sigma (DMAIC) methothodology by defining the problem, measuring data to represent performance of the existing processes used together with challenges experienced during implementation, the analysis phase focuses on describing the defect, at the improve phase, the quality of products is improved through new ideas and the control phase the lessons discovered during the improvement phase are recorded and maintained over time. "
   ]
  },
  {
   "cell_type": "code",
   "execution_count": null,
   "id": "2a62de11",
   "metadata": {},
   "outputs": [],
   "source": [
    "# The measuring phase\n",
    "import pandas as pd\n",
    "import matplotlib.pyplot as plt\n",
    "from sklearn.linear_model import LinearRegression\n",
    "from scipy.stats import pearsonr\n",
    "\n",
    "# Actual data file not included as per instructions\n",
    "# df = pd.read_csv((\"your_data_file.csv\")\n",
    "# df.head()\n",
    "\n",
    "# Fit a linear regression model\n",
    "model = LinearRegression()\n",
    "# calculated 'Variable' and 'Recovery' not included as per instructions model.fit(df[['VariableX']], df['Recovery'])\n",
    "\n",
    "# Visualize the relationship between VariableX and recovery\n",
    "# Note: Actual data or results not included as per instructions\n",
    "plt.scatter(df['VariableX'], df['Recovery'], color='blue', label='Actual Data')\n",
    "plt.plot(df['VariableX'], model.predict(df[['VariableX']]), color='red', label='Linear Regression Model')\n",
    "plt.title('Optimizing VariableX for Improved Recovery')\n",
    "plt.xlabel('VariableX')\n",
    "plt.ylabel('Recovery (%)')\n",
    "plt.legend()\n",
    "plt.show()\n",
    "\n",
    "# Calculate the correlation coefficient\n",
    "# calculated 'Variable' and 'Recovery' not included as per instructions correlation_coefficient, _ = pearsonr(df['VariableX'], df['Recovery'])\n",
    "# print(f'Correlation Coefficient: {correlation_coefficient:.2f}')\n",
    "\n",
    "# Improvement phase use the code similar to the one used during measuring phase with new data  \n",
    "\n",
    "import pandas as pd\n",
    "import matplotlib.pyplot as plt\n",
    "from sklearn.linear_model import LinearRegression\n",
    "from scipy.stats import pearsonr\n",
    "# Actual data file not included as per instructions\n",
    "# df = pd.read_csv((\"your_data_file.csv\")\n",
    "# df.head()\n",
    "\n",
    "# Fit a linear regression model\n",
    "model = LinearRegression()\n",
    "# calculated 'Variable' and 'Recovery' not included as per instructions model.fit(df[['VariableX']], df['Recovery'])\n",
    "\n",
    "# Visualize the relationship between VariableX and recovery\n",
    "# Note: Actual data or results not included as per instructions\n",
    "plt.scatter(df['VariableX'], df['Recovery'], color='blue', label='Actual Data')\n",
    "plt.plot(df['VariableX'], model.predict(df[['VariableX']]), color='red', label='Linear Regression Model')\n",
    "plt.title('Optimizing VariableX for Improved Recovery')\n",
    "plt.xlabel('VariableX')\n",
    "plt.ylabel('Recovery (%)')\n",
    "plt.legend()\n",
    "plt.show()\n",
    "\n",
    "# Calculate the correlation coefficient\n",
    "# calculated 'Variable' and 'Recovery' not included as per instructions correlation_coefficient, _ = pearsonr(df['VariableX'], df['Recovery'])\n",
    "# print(f'Correlation Coefficient: {correlation_coefficient:.2f}')\n",
    "\n"
   ]
  },
  {
   "cell_type": "markdown",
   "id": "2f6a9fc3",
   "metadata": {},
   "source": [
    "#### How would you implement and measure the effectiveness of your recommendations over time? "
   ]
  },
  {
   "cell_type": "code",
   "execution_count": null,
   "id": "6d606c14",
   "metadata": {},
   "outputs": [],
   "source": [
    "During control phase the lessons discovered during the improvement phase are recorded and maintained over time."
   ]
  },
  {
   "cell_type": "code",
   "execution_count": null,
   "id": "e8fb990d",
   "metadata": {},
   "outputs": [],
   "source": [
    "# Control phase with Python\n",
    "def establish_monitoring_system():\n",
    "    # Implement continuous monitoring logic\n",
    "    # ...\n",
    "\n",
    "# Call the function to establish monitoring\n",
    "establish_monitoring_system()"
   ]
  }
 ],
 "metadata": {
  "kernelspec": {
   "display_name": "Python 3 (ipykernel)",
   "language": "python",
   "name": "python3"
  },
  "language_info": {
   "codemirror_mode": {
    "name": "ipython",
    "version": 3
   },
   "file_extension": ".py",
   "mimetype": "text/x-python",
   "name": "python",
   "nbconvert_exporter": "python",
   "pygments_lexer": "ipython3",
   "version": "3.11.5"
  }
 },
 "nbformat": 4,
 "nbformat_minor": 5
}
