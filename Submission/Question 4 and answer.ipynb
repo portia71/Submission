{
 "cells": [
  {
   "cell_type": "markdown",
   "id": "3ee59650",
   "metadata": {},
   "source": [
    "# <center>Glencore Processing Senior Data Scientist candidate assignment by Nthabiseng Portia Mahumapelo</center>"
   ]
  },
  {
   "cell_type": "markdown",
   "id": "6b7b769a",
   "metadata": {},
   "source": [
    "# Question 4 and answers"
   ]
  },
  {
   "cell_type": "markdown",
   "id": "5e71e410",
   "metadata": {},
   "source": [
    "#### 4.\tAbout the behaviour of the stockpile: What is the particle size distribution of the feeders? Is there a greater tendency for coarse or fine material in any of them? Can you theorize the reasons for this? "
   ]
  },
  {
   "cell_type": "code",
   "execution_count": null,
   "id": "5b3276c2",
   "metadata": {},
   "outputs": [],
   "source": [
    "import numpy as np\n",
    "import matplotlib.pyplot as plt\n",
    "import seaborn as sns\n",
    "\n",
    "# Feeders data\n",
    "np.random.seed(42)\n",
    "feeder1_data = np.random.normal(42)  \n",
    "feeder2_data = np.random.normal(42)  \n",
    "\n",
    "# Visualize particle size distribution\n",
    "plt.figure(figsize=(10, 6))\n",
    "sns.histplot(feeder1_data, bins=30, kde=True, label='Feeder 1')\n",
    "sns.histplot(feeder2_data, bins=30, kde=True, label='Feeder 2')\n",
    "plt.title('Particle Size Distribution of Feeders')\n",
    "plt.xlabel('Particle Size')\n",
    "plt.ylabel('Frequency')\n",
    "plt.legend()\n",
    "plt.show()\n",
    "\n",
    "# Statistical Analysis\n",
    "mean_feeder1 = np.mean(feeder1_data)\n",
    "mean_feeder2 = np.mean(feeder2_data)\n",
    "\n",
    "median_feeder1 = np.median(feeder1_data)\n",
    "median_feeder2 = np.median(feeder2_data)\n",
    "\n",
    "skewness_feeder1 = np.skew(feeder1_data)\n",
    "skewness_feeder2 = np.skew(feeder2_data)\n",
    "\n",
    "print(f\"Feeder 1 - Mean: {mean_feeder1:.2f}, Median: {median_feeder1:.2f}, Skewness: {skewness_feeder1:.2f}\")\n",
    "print(f\"Feeder 2 - Mean: {mean_feeder2:.2f}, Median: {median_feeder2:.2f}, Skewness: {skewness_feeder2:.2f}\")\n"
   ]
  },
  {
   "cell_type": "markdown",
   "id": "5f1f647a",
   "metadata": {},
   "source": [
    "#### Is there a greater tendency for coarse or fine material in any of them? Can you theorize the reasons for this?"
   ]
  },
  {
   "cell_type": "markdown",
   "id": "d7f2b3ab",
   "metadata": {},
   "source": [
    "The theoretical reasons for differences in particle size distribution between feeders could include variations in the source material, different feeder designs, or variations in the operational conditions of each feeder. Investigating the equipment specifications, operating parameters, and characteristics of the feed materials can provide insights into the observed differences."
   ]
  }
 ],
 "metadata": {
  "kernelspec": {
   "display_name": "Python 3 (ipykernel)",
   "language": "python",
   "name": "python3"
  },
  "language_info": {
   "codemirror_mode": {
    "name": "ipython",
    "version": 3
   },
   "file_extension": ".py",
   "mimetype": "text/x-python",
   "name": "python",
   "nbconvert_exporter": "python",
   "pygments_lexer": "ipython3",
   "version": "3.11.5"
  }
 },
 "nbformat": 4,
 "nbformat_minor": 5
}
