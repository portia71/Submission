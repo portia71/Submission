{
 "cells": [
  {
   "cell_type": "markdown",
   "id": "7b6434f2",
   "metadata": {},
   "source": [
    "# <center>Glencore Processing Senior Data Scientist candidate assignment by Nthabiseng Portia Mahumapelo</center>"
   ]
  },
  {
   "cell_type": "markdown",
   "id": "88463972",
   "metadata": {},
   "source": [
    "# Question 1 and answers"
   ]
  },
  {
   "cell_type": "markdown",
   "id": "f7bce5f7",
   "metadata": {},
   "source": [
    "#### 1. Which Key Performance Indicator (KPI) would you establish to evaluate the efficiency of the concentrator? \n",
    "- When establishing the efficiency of the concentrator, key performance indicators (KPIs) to be considered include the amount of input material processed within a specific time period, particle size distribution of material, quality of material recovered, energy consumption, environmental impact, and operational costs.\n",
    "- The fishbone diagram can be applied to determine the factors affecting the efficiency of the concentrator. The fishbone diagram integrated with analysis tool is effective in evaluating the comprehensive causes together with sub-causes of one problem. The errors influencing any manufacturing process are made by human, machinery, employing unsuitable materials, techniques employed in the process which can impact on the outputs obtained such as lack of precision or poor execution, environments and faulty measurements."
   ]
  },
  {
   "cell_type": "markdown",
   "id": "d2405e34",
   "metadata": {},
   "source": [
    "#### a. How would you differentiate the results from different shifts according to the mineralogical characteristics? "
   ]
  },
  {
   "cell_type": "code",
   "execution_count": null,
   "id": "25a70651",
   "metadata": {},
   "outputs": [],
   "source": [
    "import pandas as pd\n",
    "import seaborn as sns\n",
    "import matplotlib.pyplot as plt\n",
    "\n",
    "# Add Timestamp data \n",
    "ore_data['Timestamp']=pd.read_csv(\"data\")\n",
    "ore_data['Timestamp'].head()\n",
    "\n",
    "# Convert the 'timestamp' column to datetime format, replace 'timestamp' \n",
    "ore_data['Timestamp'] = pd.to_datetime(ore_data['Timestamp'])\n",
    "ore_data['Shift'] = ore_data['Timestamp'].apply(lambda x: 'Day Shift' if 7 <= x.hour < 19 else 'Night Shift')\n",
    "\n",
    "#  Replace Mineralogical data \n",
    "mineralogical_stats = ore_data.groupby('Shift').agg({'Mineral1': ['mean', 'std'], 'Mineral2': ['mean', 'std']})\n",
    "print(mineralogical_stats)\n",
    "\n",
    "# Visualization - Box Plots\n",
    "plt.figure(figsize=(12, 8))\n",
    "sns.boxplot(x='Shift', y='Mineral', data=ore_data)\n",
    "plt.title('Mineral1 Distribution by Shift')\n",
    "plt.show()\n",
    "\n",
    "plt.figure(figsize=(12, 8))\n",
    "sns.boxplot(x='Shift', y='Mineral2', data=ore_data)\n",
    "plt.title('Mineral2 Distribution by Shift')\n",
    "plt.show()\n",
    "\n",
    "# Statistical Tests\n",
    "from scipy.stats import ttest_ind\n",
    "\n",
    "day_shift_data = ore_data[ore_data['Shift'] == 'Day Shift']\n",
    "night_shift_data = ore_data[ore_data['Shift'] == 'Night Shift']\n",
    "\n",
    "t_stat_mineral1, p_value_mineral1 = ttest_ind(day_shift_data['Mineral1'], night_shift_data['Mineral1'])\n",
    "t_stat_mineral2, p_value_mineral2 = ttest_ind(day_shift_data['Mineral2'], night_shift_data['Mineral2'])\n",
    "\n",
    "print(f'T-statistic for Mineral1: {t_stat_mineral1}, p-value: {p_value_mineral1}')\n",
    "print(f'T-statistic for Mineral2: {t_stat_mineral2}, p-value: {p_value_mineral2}')\n",
    "\n",
    "# Correlation Analysis\n",
    "correlation_mineralogical = ore_data.groupby('Shift')[['Mineral1', 'Mineral2']].corr().unstack().iloc[:, 1]\n",
    "print('Correlation between Mineral1 and Mineral2 for each Shift:')\n",
    "print(correlation_mineralogical)\n"
   ]
  },
  {
   "cell_type": "markdown",
   "id": "a0604ccc",
   "metadata": {},
   "source": [
    "#### b. How would you analyze the tradeoff between throughput of the milling circuit and the recovery of the flotation circuit? "
   ]
  },
  {
   "cell_type": "code",
   "execution_count": null,
   "id": "08da2cb8",
   "metadata": {},
   "outputs": [],
   "source": [
    "import seaborn as sns\n",
    "import matplotlib.pyplot as plt\n",
    "import pandas as pd\n",
    "# Add data \n",
    "data=pd.read_csv('data')\n",
    "data.head()\n",
    "\n",
    "# Scatter plot \n",
    "plt.figure(figsize=(10, 6))\n",
    "sns.scatterplot(x='Throughput', y='Recovery', data=data)\n",
    "plt.title('Tradeoff Analysis: Throughput vs. Recovery')\n",
    "plt.show()\n",
    "# Calculate the correlation coefficient between throughput and recovery. \n",
    "correlation = data['Throughput'].corr(data['Recovery'])\n",
    "print(f'Correlation between Throughput and Recovery: {correlation}')\n",
    "\n",
    "# Building a predictive model\n",
    "from sklearn.model_selection import train_test_split\n",
    "from sklearn.linear_model import LinearRegression\n",
    "from sklearn.metrics import mean_squared_error\n",
    "\n",
    "# 'Throughput' and 'Recovery' columns\n",
    "X = data[['Throughput']]\n",
    "y = data['Recovery']\n",
    "\n",
    "# Split the data into training and testing sets\n",
    "X_train, X_test, y_train, y_test = train_test_split(X, y, test_size=0.2, random_state=42)\n",
    "\n",
    "# Train a linear regression model\n",
    "model = LinearRegression()\n",
    "model.fit(X_train, y_train)\n",
    "\n",
    "# Make predictions on the test set\n",
    "predictions = model.predict(X_test)\n",
    "\n",
    "# Evaluate the model\n",
    "mse = mean_squared_error(y_test, predictions)\n",
    "print(f'Mean Squared Error: {mse}')\n"
   ]
  }
 ],
 "metadata": {
  "kernelspec": {
   "display_name": "Python 3 (ipykernel)",
   "language": "python",
   "name": "python3"
  },
  "language_info": {
   "codemirror_mode": {
    "name": "ipython",
    "version": 3
   },
   "file_extension": ".py",
   "mimetype": "text/x-python",
   "name": "python",
   "nbconvert_exporter": "python",
   "pygments_lexer": "ipython3",
   "version": "3.11.5"
  }
 },
 "nbformat": 4,
 "nbformat_minor": 5
}
