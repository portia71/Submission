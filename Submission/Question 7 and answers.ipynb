{
 "cells": [
  {
   "cell_type": "markdown",
   "id": "f94d9ff1",
   "metadata": {},
   "source": [
    "# <center>Glencore Processing Senior Data Scientist candidate assignment by Nthabiseng Portia Mahumapelo</center>"
   ]
  },
  {
   "cell_type": "markdown",
   "id": "c7c9fac5",
   "metadata": {},
   "source": [
    "# Question 7 and answers"
   ]
  },
  {
   "cell_type": "markdown",
   "id": "90846b57",
   "metadata": {},
   "source": [
    "#### 7. With regards to the ore information: \n",
    "#### a. Characterize each ore origin in terms of UGM and recovery. "
   ]
  },
  {
   "cell_type": "code",
   "execution_count": null,
   "id": "f7eadd57",
   "metadata": {},
   "outputs": [],
   "source": [
    "import pandas as pd\n",
    "import matplotlib.pyplot as plt\n",
    "import seaborn as sns\n",
    "\n",
    "# Replace this with your data and column names\n",
    "ore_data= pd.read_csv()\n",
    "ore_data.head()\n",
    "\n",
    "# Characterize each ore origin in terms of UGM\n",
    "ore_ugm_summary = ore_data.groupby('OreOrigin')['UGM'].describe()\n",
    "\n",
    "# Characterize each ore origin in terms of Recovery\n",
    "ore_recovery_summary = ore_data.groupby('OreOrigin')['Recovery'].describe()\n",
    "\n",
    "# Plotting UGM distribution for each ore origin\n",
    "plt.figure(figsize=(12, 6))\n",
    "sns.boxplot(x='OreOrigin', y='UGM', data=ore_data)\n",
    "plt.title('UGM Distribution for Each Ore Origin')\n",
    "plt.xlabel('Ore Origin')\n",
    "plt.ylabel('UGM')\n",
    "plt.show()\n",
    "\n",
    "# Plotting Recovery distribution for each ore origin\n",
    "plt.figure(figsize=(12, 6))\n",
    "sns.boxplot(x='OreOrigin', y='Recovery', data=ore_data)\n",
    "plt.title('Recovery Distribution for Each Ore Origin')\n",
    "plt.xlabel('Ore Origin')\n",
    "plt.ylabel('Recovery')\n",
    "plt.show()\n"
   ]
  },
  {
   "cell_type": "code",
   "execution_count": null,
   "id": "03850b4d",
   "metadata": {},
   "outputs": [],
   "source": [
    "import pandas as pd\n",
    "\n",
    "#Add data not added\n",
    "ore_stats = pd.read_csv('Data')\n",
    "ore_stats.head()\n",
    "import seaborn as sns\n",
    "import matplotlib.pyplot as plt\n",
    "\n",
    "# Assuming you have a DataFrame 'ore_data' with columns 'UGM', 'Recovery', and 'OreOrigin'\n",
    "plt.figure(figsize=(12, 6))\n",
    "sns.boxplot(x='OreOrigin', y='UGM', data=ore_data)\n",
    "plt.title('UGM Distribution by Ore Origin')\n",
    "plt.show()\n",
    "\n",
    "plt.figure(figsize=(12, 6))\n",
    "sns.boxplot(x='OreOrigin', y='Recovery', data=ore_data)\n",
    "plt.title('Recovery Distribution by Ore Origin')\n",
    "plt.show()\n",
    "\n",
    "correlation = ore_data[['UGM', 'Recovery']].corr()\n",
    "print(correlation)\n"
   ]
  },
  {
   "cell_type": "markdown",
   "id": "5ec89498",
   "metadata": {},
   "source": [
    "#### b. Analyze the effect of UGM over recovery."
   ]
  },
  {
   "cell_type": "code",
   "execution_count": null,
   "id": "66e221c3",
   "metadata": {},
   "outputs": [],
   "source": [
    "import pandas as pd\n",
    "import matplotlib.pyplot as plt\n",
    "from sklearn.linear_model import LinearRegression\n",
    "\n",
    "# Sample data \n",
    "df = pd.read_csv(data)\n",
    "df.read\n",
    "# Fit a linear regression model\n",
    "model = LinearRegression()\n",
    "model.fit(df[['UGM']], df['Recovery'])\n",
    "\n",
    "# Predict recovery based on UGM\n",
    "predicted_recovery = model.predict(df[['UGM']])\n",
    "\n",
    "# Visualize the relationship between UGM and recovery\n",
    "plt.scatter(df['UGM'], df['Recovery'], color='blue', label='Actual Data')\n",
    "plt.plot(df['UGM'], predicted_recovery, color='red', label='Linear Regression Model')\n",
    "plt.title('Effect of UGM on Recovery')\n",
    "plt.xlabel('UGM (Ultimate Gold Mass)')\n",
    "plt.ylabel('Recovery (%)')\n",
    "plt.legend()\n",
    "plt.show()\n",
    "\n",
    "# Print the coefficients of the linear regression model\n",
    "print(f'Linear Regression Coefficients: {model.coef_[0]:.2f}')\n",
    "print(f'Linear Regression Intercept: {model.intercept_:.2f}')\n"
   ]
  }
 ],
 "metadata": {
  "kernelspec": {
   "display_name": "Python 3 (ipykernel)",
   "language": "python",
   "name": "python3"
  },
  "language_info": {
   "codemirror_mode": {
    "name": "ipython",
    "version": 3
   },
   "file_extension": ".py",
   "mimetype": "text/x-python",
   "name": "python",
   "nbconvert_exporter": "python",
   "pygments_lexer": "ipython3",
   "version": "3.11.5"
  }
 },
 "nbformat": 4,
 "nbformat_minor": 5
}
