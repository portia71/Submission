{
 "cells": [
  {
   "cell_type": "markdown",
   "id": "eca16040",
   "metadata": {},
   "source": [
    "# <center>Glencore Processing Senior Data Scientist candidate assignment by Nthabiseng Portia Mahumapelo</center>"
   ]
  },
  {
   "cell_type": "markdown",
   "id": "e6e48f39",
   "metadata": {},
   "source": [
    "# Question 3 and answers"
   ]
  },
  {
   "cell_type": "markdown",
   "id": "e9f97ed1",
   "metadata": {},
   "source": [
    "#### 3.\tAccording to the P80 signal \n",
    "What insights can you detect according to the signal? "
   ]
  },
  {
   "cell_type": "markdown",
   "id": "91db0060",
   "metadata": {},
   "source": [
    "- The P80 (particle size at which 80% of the material passes) is a critical parameter in mineral processing, and analyzing its signal can provide insights into the efficiency of the grinding and classification processes.\n",
    "- An investigation to determine what causes 20% material not to pass can be coducted through Pareto analysis. Pareto guideline states that 80% of product fluctuation comes from only 20% of the total causes.\n",
    "- This implies that just a couple of variables contribute the most to a procedure, and that such factors ought to be organised with a specific end-goal.  The primary focus should be on these key variables first, so that most procedural improvement can be realized while investing the least amount of resources. "
   ]
  },
  {
   "cell_type": "code",
   "execution_count": null,
   "id": "a52153ca",
   "metadata": {},
   "outputs": [],
   "source": [
    "import numpy as np\n",
    "import matplotlib.pyplot as plt\n",
    "import seaborn as sns\n",
    "\n",
    "# Generate example P80 signal data\n",
    "np.random.seed()\n",
    "time = np.arange(0, 100, 1)\n",
    "p80_signal = 100 + 0.2 * time + np.random.normal(0, 5, len(time))\n",
    "\n",
    "# Plotting the P80 signal over time\n",
    "plt.figure(figsize=(12, 6))\n",
    "plt.plot(time, p80_signal, label='P80 Signal', marker='o')\n",
    "plt.title('P80 Signal Over Time')\n",
    "plt.xlabel('Time')\n",
    "plt.ylabel('P80 Value')\n",
    "plt.legend()\n",
    "plt.show()\n",
    "\n",
    "# Histogram to visualize the distribution of P80 values\n",
    "plt.figure(figsize=(8, 6))\n",
    "sns.histplot(p80_signal, bins=20, kde=True)\n",
    "plt.title('Distribution of P80 Values')\n",
    "plt.xlabel('P80 Value')\n",
    "plt.ylabel('Frequency')\n",
    "plt.show()\n",
    "\n",
    "# Rolling average to smooth the P80 signal\n",
    "window_size = 10\n",
    "rolling_avg = np.convolve(p80_signal, np.ones(window_size)/window_size, mode='valid')\n",
    "\n",
    "# Plotting the smoothed P80 signal\n",
    "plt.figure(figsize=(12, 6))\n",
    "plt.plot(time[window_size-1:], rolling_avg, label='Smoothed P80 Signal', marker='o')\n",
    "plt.title('Smoothed P80 Signal Over Time')\n",
    "plt.xlabel('Time')\n",
    "plt.ylabel('Smoothed P80 Value')\n",
    "plt.legend()\n",
    "plt.show()\n"
   ]
  },
  {
   "cell_type": "markdown",
   "id": "252b4949",
   "metadata": {},
   "source": [
    " #### Which variables are the most important for the prediction of the model? "
   ]
  },
  {
   "cell_type": "markdown",
   "id": "0cae35ca",
   "metadata": {},
   "source": [
    "To determine the importance of variables in a linear regression model, you can examine the coefficients associated with each input variable. "
   ]
  },
  {
   "cell_type": "code",
   "execution_count": null,
   "id": "77e9a0b1",
   "metadata": {},
   "outputs": [],
   "source": [
    "# Print the coefficients\n",
    "print('Intercept (beta_0):', model.intercept_)\n",
    "print('Coefficient for VariableX (beta_1):', model.coef_[0])"
   ]
  }
 ],
 "metadata": {
  "kernelspec": {
   "display_name": "Python 3 (ipykernel)",
   "language": "python",
   "name": "python3"
  },
  "language_info": {
   "codemirror_mode": {
    "name": "ipython",
    "version": 3
   },
   "file_extension": ".py",
   "mimetype": "text/x-python",
   "name": "python",
   "nbconvert_exporter": "python",
   "pygments_lexer": "ipython3",
   "version": "3.11.5"
  }
 },
 "nbformat": 4,
 "nbformat_minor": 5
}
