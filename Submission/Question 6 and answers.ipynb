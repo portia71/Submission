{
 "cells": [
  {
   "cell_type": "markdown",
   "id": "68c95427",
   "metadata": {},
   "source": [
    "# <center>Glencore Processing Senior Data Scientist candidate assignment by Nthabiseng Portia Mahumapelo</center>"
   ]
  },
  {
   "cell_type": "markdown",
   "id": "a4c67d09",
   "metadata": {},
   "source": [
    "# Question 6 and answers"
   ]
  },
  {
   "cell_type": "markdown",
   "id": "4c858120",
   "metadata": {},
   "source": [
    "### 6.\tWith respect to operational discipline: \n",
    "#### a. Propose a sequence of steps to find and define a data based optimal operational standard, or operational recipe to control standardization across shifts. Name and explain the techniques you would use."
   ]
  },
  {
   "cell_type": "markdown",
   "id": "5c836b04",
   "metadata": {},
   "source": [
    "To find and define a data-based optimal operational standard or recipe for controlling standardization across shifts, follow a sequence of steps. This process involves data analysis, statistical techniques, and possibly machine learning methods. Below is a proposed sequence of steps along with explanations."
   ]
  },
  {
   "cell_type": "code",
   "execution_count": null,
   "id": "85850906",
   "metadata": {},
   "outputs": [],
   "source": [
    "import pandas as pd\n",
    "from sklearn.model_selection import train_test_split\n",
    "from sklearn.preprocessing import StandardScaler\n",
    "\n",
    "# Load your dataset \n",
    "df = pd.read_csv()\n",
    "df\n",
    "\n",
    "# Split the data into features (X) and the target variable (y)\n",
    "X = df.drop('KPI', axis=1)\n",
    "y = df['KPI']\n",
    "\n",
    "# Split the data into training and testing sets\n",
    "X_train, X_test, y_train, y_test = train_test_split(X, y, test_size=0.2, random_state=42)\n",
    "\n",
    "# Standardize the features (optional but often beneficial)\n",
    "scaler = StandardScaler()\n",
    "X_train_scaled = scaler.fit_transform(X_train)\n",
    "X_test_scaled = scaler.transform(X_test)\n"
   ]
  },
  {
   "cell_type": "code",
   "execution_count": null,
   "id": "df2d6618",
   "metadata": {},
   "outputs": [],
   "source": [
    "# Model Development:\n",
    "from sklearn.linear_model import LinearRegression\n",
    "\n",
    "# Train a linear regression model\n",
    "model = LinearRegression()\n",
    "model.fit(X_train_scaled, y_train)\n"
   ]
  },
  {
   "cell_type": "code",
   "execution_count": null,
   "id": "b426b6fa",
   "metadata": {},
   "outputs": [],
   "source": [
    "# Model Evaluation:\n",
    "from sklearn.metrics import mean_squared_error\n",
    "\n",
    "# Predict on the test set\n",
    "y_pred = model.predict(X_test_scaled)\n",
    "\n",
    "# Evaluate the model\n",
    "mse = mean_squared_error(y_test, y_pred)\n",
    "print(f'Mean Squared Error: {mse:.2f}')"
   ]
  },
  {
   "cell_type": "code",
   "execution_count": null,
   "id": "11b72217",
   "metadata": {},
   "outputs": [],
   "source": [
    "Optimization Techniques:"
   ]
  },
  {
   "cell_type": "code",
   "execution_count": null,
   "id": "3a817c3d",
   "metadata": {},
   "outputs": [],
   "source": [
    "# Assuming the model coefficients represent the importance of each feature\n",
    "operational_standard = dict(zip(X.columns, model.coef_))\n",
    "print('Operational Standard:', operational_standard)\n"
   ]
  },
  {
   "cell_type": "code",
   "execution_count": null,
   "id": "3cf0de60",
   "metadata": {},
   "outputs": [],
   "source": [
    "# Continuous Monitoring:\n",
    "# Simulated real-time update (replace with your actual data stream)\n",
    "new_data_point = X_test.iloc[0, :].values.reshape(1, -1)  \n",
    "new_data_point_scaled = scaler.transform(new_data_point)\n",
    "\n",
    "# Predict with the updated model\n",
    "updated_prediction = model.predict(new_data_point_scaled)\n",
    "print('Updated Prediction:', updated_prediction)"
   ]
  },
  {
   "cell_type": "markdown",
   "id": "90e8aa9a",
   "metadata": {},
   "source": [
    "#### b. Suppose that the company is going to finance a team of developers to implement your strategy, but only if you justify the investment. Use the data provided to propose a business case. "
   ]
  },
  {
   "cell_type": "markdown",
   "id": "17804229",
   "metadata": {},
   "source": [
    "The implementation of a data-driven operational standardization strategy has the potential to significantly enhance operational discipline, leading to improved efficiency, quality, and productivity. The investment in a team of developers is justified by the anticipated positive impact on the company's bottom line and overall competitiveness.Creating a detailed business case with developers involves a mix of data analysis, visualization, and financial modeling which outline a clear view on the performance of the company."
   ]
  },
  {
   "cell_type": "code",
   "execution_count": null,
   "id": "ac3aec5e",
   "metadata": {},
   "outputs": [],
   "source": [
    "import pandas as pd\n",
    "import matplotlib.pyplot as plt\n",
    "import seaborn as sns\n",
    "\n",
    "# Load dataset (replace 'your_data.csv' with your actual data file)\n",
    "df = pd.read_csv(\"Data\")\n",
    "df.head()\n",
    "\n",
    "# Basic data exploration\n",
    "print(df.head())\n",
    "print(df.info())\n",
    "\n",
    "# Visualize key metrics over time\n",
    "plt.figure(figsize=(12, 6))\n",
    "sns.lineplot(x='Date', y='Operational_Efficiency', data=df, label='Operational Efficiency')\n",
    "sns.lineplot(x='Date', y='Quality_Control', data=df, label='Quality Control')\n",
    "sns.lineplot(x='Date', y='Productivity', data=df, label='Productivity')\n",
    "plt.title('Key Metrics Over Time')\n",
    "plt.xlabel('Date')\n",
    "plt.ylabel('Metric Value')\n",
    "plt.legend()\n",
    "plt.show()\n",
    "\n",
    "# Calculate ROI based on placeholder values\n",
    "investment_costs = 5000000  # Placeholder: Replace with actual investment costs\n",
    "benefits = 8000000  # Placeholder: Replace with actual annual benefits\n",
    "roi = ((benefits - investment_costs) / investment_costs) * 100\n",
    "\n",
    "# Print ROI\n",
    "print(f'ROI: {roi:.2f}%')\n",
    "\n",
    "# Create a bar chart for Investment Costs and Annual Benefits\n",
    "plt.figure(figsize=(10, 6))\n",
    "sns.barplot(x=['Investment Costs', 'Annual Benefits'], y=[-investment_costs, benefits])\n",
    "plt.title('Investment Costs vs. Annual Benefits')\n",
    "plt.ylabel('Amount ($)')\n",
    "plt.show()"
   ]
  }
 ],
 "metadata": {
  "kernelspec": {
   "display_name": "Python 3 (ipykernel)",
   "language": "python",
   "name": "python3"
  },
  "language_info": {
   "codemirror_mode": {
    "name": "ipython",
    "version": 3
   },
   "file_extension": ".py",
   "mimetype": "text/x-python",
   "name": "python",
   "nbconvert_exporter": "python",
   "pygments_lexer": "ipython3",
   "version": "3.11.5"
  }
 },
 "nbformat": 4,
 "nbformat_minor": 5
}
