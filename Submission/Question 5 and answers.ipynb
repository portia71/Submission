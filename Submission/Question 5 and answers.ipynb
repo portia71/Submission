{
 "cells": [
  {
   "cell_type": "markdown",
   "id": "442038f7",
   "metadata": {},
   "source": [
    "# <center>Glencore Processing Senior Data Scientist candidate assignment by Nthabiseng Portia Mahumapelo</center>"
   ]
  },
  {
   "cell_type": "markdown",
   "id": "a5077ec9",
   "metadata": {},
   "source": [
    "# Question 5 and answers"
   ]
  },
  {
   "cell_type": "markdown",
   "id": "b2bf299a",
   "metadata": {},
   "source": [
    "# About the flotation recovery: \n",
    "#### a.\tHow would you calculate the flotation recovery from the input grade, tails grade and concentrate grade? Show an explicit equation and explain it in a simplified manner. "
   ]
  },
  {
   "cell_type": "markdown",
   "id": "00e2bd2d",
   "metadata": {},
   "source": [
    "Flotation recovery is a key parameter in mineral processing that measures the proportion of valuable mineral recovered in the concentrate relative to the amount of valuable mineral present in the feed.\n",
    "recovery = calculate_recovery(input_grade, tails_grade, concentrate grade)\n",
    "print(f'Flotation Recovery: {recovery:.2f}%')"
   ]
  },
  {
   "cell_type": "markdown",
   "id": "b8ac0c6e",
   "metadata": {},
   "source": [
    "R= \n",
    "Feed Grade×Feed Mass\n",
    "Concentrate Grade×(Concentrate Mass−Tails Mass)\n",
    "​\n",
    " ×100"
   ]
  },
  {
   "cell_type": "code",
   "execution_count": 6,
   "id": "8f56ca60",
   "metadata": {},
   "outputs": [],
   "source": [
    "def calculate_recovery(concentrate_grade, tails_grade, feed_grade):\n",
    "    recovery = ((concentrate_grade - tails_grade) / (feed_grade - tails_grade)) * 100\n",
    "    return recovery\n",
    "# Example values\n",
    "concentrate_grade = 20  # replace with actual concentrate grade\n",
    "tails_grade = 2        # replace with actual tails grade\n",
    "feed_grade = 10        # replace with actual feed grade\n",
    "\n",
    "# Calculate recovery\n",
    "recovery = calculate_recovery(concentrate_grade, tails_grade, feed_grade)\n",
    "\n",
    "# Print the result\n",
    "print(f'Flotation Recovery: {recovery:.2f}%')\n"
   ]
  },
  {
   "cell_type": "markdown",
   "id": "0bff10c3",
   "metadata": {},
   "source": [
    "#### b.Make a comparison between the recovery calculated from LIMS system data and the recovery calculated from XRF analyzers in flotation. Exploit at least two data analysis techniques to show the differences. "
   ]
  },
  {
   "cell_type": "code",
   "execution_count": null,
   "id": "badaf2f3",
   "metadata": {},
   "outputs": [],
   "source": [
    "import matplotlib.pyplot as plt\n",
    "import seaborn as sns\n",
    "\n",
    "# Data of recovery_lims and recovery_xrf not added \n",
    "plt.figure(figsize=(8, 8))\n",
    "sns.scatterplot(x=recovery_lims, y=recovery_xrf)\n",
    "plt.title('Comparison of Recovery (LIMS vs XRF)')\n",
    "plt.xlabel('Recovery from LIMS (%)')\n",
    "plt.ylabel('Recovery from XRF (%)')\n",
    "plt.show()\n",
    "\n",
    "# Below is statistical metrics to quantify the differences between the two sets of recovery values.\n",
    "from sklearn.metrics import mean_absolute_error, mean_squared_error, r2_score\n",
    "\n",
    "# Assuming you have two lists/arrays: recovery_lims and recovery_xrf\n",
    "mae = mean_absolute_error(recovery_lims, recovery_xrf)\n",
    "rmse = mean_squared_error(recovery_lims, recovery_xrf, squared=False)\n",
    "r2 = r2_score(recovery_lims, recovery_xrf)\n",
    "\n",
    "print(f'Mean Absolute Error: {mae:.2f}')\n",
    "print(f'Root Mean Squared Error: {rmse:.2f}')\n",
    "print(f'R-squared (Coefficient of determination): {r2:.2f}')\n"
   ]
  }
 ],
 "metadata": {
  "kernelspec": {
   "display_name": "Python 3 (ipykernel)",
   "language": "python",
   "name": "python3"
  },
  "language_info": {
   "codemirror_mode": {
    "name": "ipython",
    "version": 3
   },
   "file_extension": ".py",
   "mimetype": "text/x-python",
   "name": "python",
   "nbconvert_exporter": "python",
   "pygments_lexer": "ipython3",
   "version": "3.11.5"
  }
 },
 "nbformat": 4,
 "nbformat_minor": 5
}
